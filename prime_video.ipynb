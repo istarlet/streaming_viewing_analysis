{
 "cells": [
  {
   "cell_type": "markdown",
   "metadata": {},
   "source": [
    "## Prime Video Streaming "
   ]
  },
  {
   "cell_type": "code",
   "execution_count": 1,
   "metadata": {},
   "outputs": [],
   "source": [
    "# Import need libraries\n",
    "import pandas as pd"
   ]
  },
  {
   "cell_type": "code",
   "execution_count": 2,
   "metadata": {},
   "outputs": [],
   "source": [
    "# Read the CSV file in\n",
    "prime_video = pd.read_csv(\"datasets/DigitalPrimeVideoViewinghistory.csv\")"
   ]
  },
  {
   "cell_type": "code",
   "execution_count": 3,
   "metadata": {},
   "outputs": [
    {
     "data": {
      "text/html": [
       "<div>\n",
       "<style scoped>\n",
       "    .dataframe tbody tr th:only-of-type {\n",
       "        vertical-align: middle;\n",
       "    }\n",
       "\n",
       "    .dataframe tbody tr th {\n",
       "        vertical-align: top;\n",
       "    }\n",
       "\n",
       "    .dataframe thead th {\n",
       "        text-align: right;\n",
       "    }\n",
       "</style>\n",
       "<table border=\"1\" class=\"dataframe\">\n",
       "  <thead>\n",
       "    <tr style=\"text-align: right;\">\n",
       "      <th></th>\n",
       "      <th>Playback Hour</th>\n",
       "      <th>Operating System</th>\n",
       "      <th>Browser</th>\n",
       "      <th>Delivery Type</th>\n",
       "      <th>City</th>\n",
       "      <th>Country</th>\n",
       "      <th>ISP</th>\n",
       "      <th>State</th>\n",
       "      <th>Content Quality Entitled</th>\n",
       "      <th>Entitlement Type</th>\n",
       "      <th>Video Type</th>\n",
       "      <th>Audio Language</th>\n",
       "      <th>Title</th>\n",
       "      <th>Unnamed: 13</th>\n",
       "      <th>Unnamed: 14</th>\n",
       "      <th>Unnamed: 15</th>\n",
       "    </tr>\n",
       "  </thead>\n",
       "  <tbody>\n",
       "    <tr>\n",
       "      <th>0</th>\n",
       "      <td>05/30/2011 22:00:00</td>\n",
       "      <td>Windows 7</td>\n",
       "      <td>Firefox/4 Gecko/2</td>\n",
       "      <td>NaN</td>\n",
       "      <td>cincinnati</td>\n",
       "      <td>us</td>\n",
       "      <td>Cincinnati_Bell_Telephone</td>\n",
       "      <td>oh</td>\n",
       "      <td>NaN</td>\n",
       "      <td>NaN</td>\n",
       "      <td>NaN</td>\n",
       "      <td>NaN</td>\n",
       "      <td>I'll Let You Know When I Get There-The Killing...</td>\n",
       "      <td>NaN</td>\n",
       "      <td>NaN</td>\n",
       "      <td>NaN</td>\n",
       "    </tr>\n",
       "    <tr>\n",
       "      <th>1</th>\n",
       "      <td>05/30/2011 22:00:00</td>\n",
       "      <td>Windows 7</td>\n",
       "      <td>Firefox/4 Gecko/2</td>\n",
       "      <td>NaN</td>\n",
       "      <td>cincinnati</td>\n",
       "      <td>us</td>\n",
       "      <td>Cincinnati_Bell_Telephone</td>\n",
       "      <td>oh</td>\n",
       "      <td>NaN</td>\n",
       "      <td>NaN</td>\n",
       "      <td>NaN</td>\n",
       "      <td>NaN</td>\n",
       "      <td>I'll Let You Know When I Get There-The Killing...</td>\n",
       "      <td>NaN</td>\n",
       "      <td>NaN</td>\n",
       "      <td>NaN</td>\n",
       "    </tr>\n",
       "    <tr>\n",
       "      <th>2</th>\n",
       "      <td>06/07/2011 1:00:00</td>\n",
       "      <td>Windows 7</td>\n",
       "      <td>Firefox/4 Gecko/2</td>\n",
       "      <td>NaN</td>\n",
       "      <td>cincinnati</td>\n",
       "      <td>us</td>\n",
       "      <td>Cincinnati_Bell_Telephone</td>\n",
       "      <td>oh</td>\n",
       "      <td>NaN</td>\n",
       "      <td>NaN</td>\n",
       "      <td>NaN</td>\n",
       "      <td>NaN</td>\n",
       "      <td>Pilot-The Killing Season 1</td>\n",
       "      <td>NaN</td>\n",
       "      <td>NaN</td>\n",
       "      <td>NaN</td>\n",
       "    </tr>\n",
       "    <tr>\n",
       "      <th>3</th>\n",
       "      <td>06/07/2011 1:00:00</td>\n",
       "      <td>Windows 7</td>\n",
       "      <td>Firefox/4 Gecko/2</td>\n",
       "      <td>NaN</td>\n",
       "      <td>cincinnati</td>\n",
       "      <td>us</td>\n",
       "      <td>Cincinnati_Bell_Telephone</td>\n",
       "      <td>oh</td>\n",
       "      <td>NaN</td>\n",
       "      <td>NaN</td>\n",
       "      <td>NaN</td>\n",
       "      <td>NaN</td>\n",
       "      <td>Missing-The Killing Season 1</td>\n",
       "      <td>NaN</td>\n",
       "      <td>NaN</td>\n",
       "      <td>NaN</td>\n",
       "    </tr>\n",
       "    <tr>\n",
       "      <th>4</th>\n",
       "      <td>06/17/2011 23:00:00</td>\n",
       "      <td>Windows 7</td>\n",
       "      <td>Firefox/3 Gecko/2</td>\n",
       "      <td>NaN</td>\n",
       "      <td>cincinnati</td>\n",
       "      <td>us</td>\n",
       "      <td>Cincinnati_Bell_Telephone</td>\n",
       "      <td>oh</td>\n",
       "      <td>NaN</td>\n",
       "      <td>NaN</td>\n",
       "      <td>NaN</td>\n",
       "      <td>NaN</td>\n",
       "      <td>Beau Soleil-The Killing Season 1</td>\n",
       "      <td>NaN</td>\n",
       "      <td>NaN</td>\n",
       "      <td>NaN</td>\n",
       "    </tr>\n",
       "  </tbody>\n",
       "</table>\n",
       "</div>"
      ],
      "text/plain": [
       "         Playback Hour Operating System            Browser Delivery Type  \\\n",
       "0  05/30/2011 22:00:00        Windows 7  Firefox/4 Gecko/2           NaN   \n",
       "1  05/30/2011 22:00:00        Windows 7  Firefox/4 Gecko/2           NaN   \n",
       "2   06/07/2011 1:00:00        Windows 7  Firefox/4 Gecko/2           NaN   \n",
       "3   06/07/2011 1:00:00        Windows 7  Firefox/4 Gecko/2           NaN   \n",
       "4  06/17/2011 23:00:00        Windows 7  Firefox/3 Gecko/2           NaN   \n",
       "\n",
       "         City Country                        ISP State  \\\n",
       "0  cincinnati      us  Cincinnati_Bell_Telephone    oh   \n",
       "1  cincinnati      us  Cincinnati_Bell_Telephone    oh   \n",
       "2  cincinnati      us  Cincinnati_Bell_Telephone    oh   \n",
       "3  cincinnati      us  Cincinnati_Bell_Telephone    oh   \n",
       "4  cincinnati      us  Cincinnati_Bell_Telephone    oh   \n",
       "\n",
       "  Content Quality Entitled Entitlement Type Video Type Audio Language  \\\n",
       "0                      NaN              NaN        NaN            NaN   \n",
       "1                      NaN              NaN        NaN            NaN   \n",
       "2                      NaN              NaN        NaN            NaN   \n",
       "3                      NaN              NaN        NaN            NaN   \n",
       "4                      NaN              NaN        NaN            NaN   \n",
       "\n",
       "                                               Title Unnamed: 13 Unnamed: 14  \\\n",
       "0  I'll Let You Know When I Get There-The Killing...         NaN         NaN   \n",
       "1  I'll Let You Know When I Get There-The Killing...         NaN         NaN   \n",
       "2                         Pilot-The Killing Season 1         NaN         NaN   \n",
       "3                       Missing-The Killing Season 1         NaN         NaN   \n",
       "4                   Beau Soleil-The Killing Season 1         NaN         NaN   \n",
       "\n",
       "  Unnamed: 15  \n",
       "0         NaN  \n",
       "1         NaN  \n",
       "2         NaN  \n",
       "3         NaN  \n",
       "4         NaN  "
      ]
     },
     "execution_count": 3,
     "metadata": {},
     "output_type": "execute_result"
    }
   ],
   "source": [
    "# View the first five rows of data\n",
    "prime_video.head()"
   ]
  },
  {
   "cell_type": "markdown",
   "metadata": {},
   "source": [
    "### 2. Manipulate and Clean the Data"
   ]
  },
  {
   "cell_type": "code",
   "execution_count": 4,
   "metadata": {},
   "outputs": [
    {
     "data": {
      "text/plain": [
       "Index(['Playback Hour', 'Operating System', 'Browser', 'Delivery Type', 'City',\n",
       "       'Country', 'ISP', 'State', 'Content Quality Entitled',\n",
       "       'Entitlement Type', 'Video Type', 'Audio Language', 'Title',\n",
       "       'Unnamed: 13', 'Unnamed: 14', 'Unnamed: 15'],\n",
       "      dtype='object')"
      ]
     },
     "execution_count": 4,
     "metadata": {},
     "output_type": "execute_result"
    }
   ],
   "source": [
    "# Get a list of all the column names\n",
    "prime_video.columns"
   ]
  },
  {
   "cell_type": "code",
   "execution_count": 5,
   "metadata": {},
   "outputs": [
    {
     "data": {
      "text/html": [
       "<div>\n",
       "<style scoped>\n",
       "    .dataframe tbody tr th:only-of-type {\n",
       "        vertical-align: middle;\n",
       "    }\n",
       "\n",
       "    .dataframe tbody tr th {\n",
       "        vertical-align: top;\n",
       "    }\n",
       "\n",
       "    .dataframe thead th {\n",
       "        text-align: right;\n",
       "    }\n",
       "</style>\n",
       "<table border=\"1\" class=\"dataframe\">\n",
       "  <thead>\n",
       "    <tr style=\"text-align: right;\">\n",
       "      <th></th>\n",
       "      <th>Playback Hour</th>\n",
       "      <th>Title</th>\n",
       "    </tr>\n",
       "  </thead>\n",
       "  <tbody>\n",
       "    <tr>\n",
       "      <th>0</th>\n",
       "      <td>05/30/2011 22:00:00</td>\n",
       "      <td>I'll Let You Know When I Get There-The Killing...</td>\n",
       "    </tr>\n",
       "    <tr>\n",
       "      <th>1</th>\n",
       "      <td>05/30/2011 22:00:00</td>\n",
       "      <td>I'll Let You Know When I Get There-The Killing...</td>\n",
       "    </tr>\n",
       "    <tr>\n",
       "      <th>2</th>\n",
       "      <td>06/07/2011 1:00:00</td>\n",
       "      <td>Pilot-The Killing Season 1</td>\n",
       "    </tr>\n",
       "    <tr>\n",
       "      <th>3</th>\n",
       "      <td>06/07/2011 1:00:00</td>\n",
       "      <td>Missing-The Killing Season 1</td>\n",
       "    </tr>\n",
       "    <tr>\n",
       "      <th>4</th>\n",
       "      <td>06/17/2011 23:00:00</td>\n",
       "      <td>Beau Soleil-The Killing Season 1</td>\n",
       "    </tr>\n",
       "  </tbody>\n",
       "</table>\n",
       "</div>"
      ],
      "text/plain": [
       "         Playback Hour                                              Title\n",
       "0  05/30/2011 22:00:00  I'll Let You Know When I Get There-The Killing...\n",
       "1  05/30/2011 22:00:00  I'll Let You Know When I Get There-The Killing...\n",
       "2   06/07/2011 1:00:00                         Pilot-The Killing Season 1\n",
       "3   06/07/2011 1:00:00                       Missing-The Killing Season 1\n",
       "4  06/17/2011 23:00:00                   Beau Soleil-The Killing Season 1"
      ]
     },
     "execution_count": 5,
     "metadata": {},
     "output_type": "execute_result"
    }
   ],
   "source": [
    "# Drop the columns that aren't needed\n",
    "prime_video = prime_video.drop(columns=[\"Operating System\", \"Browser\", \"City\", \"ISP\", \"State\", \"Delivery Type\", \"Country\", \"Country\", \"Content Quality Entitled\", \"Entitlement Type\", \"Video Type\", \"Audio Language\", \"Unnamed: 13\", \"Unnamed: 14\", \"Unnamed: 15\"], axis=1)\n",
    "\n",
    "# View updated dataframe to make sure that columns were dropped\n",
    "prime_video.head()"
   ]
  },
  {
   "cell_type": "code",
   "execution_count": 6,
   "metadata": {},
   "outputs": [
    {
     "data": {
      "text/html": [
       "<div>\n",
       "<style scoped>\n",
       "    .dataframe tbody tr th:only-of-type {\n",
       "        vertical-align: middle;\n",
       "    }\n",
       "\n",
       "    .dataframe tbody tr th {\n",
       "        vertical-align: top;\n",
       "    }\n",
       "\n",
       "    .dataframe thead th {\n",
       "        text-align: right;\n",
       "    }\n",
       "</style>\n",
       "<table border=\"1\" class=\"dataframe\">\n",
       "  <thead>\n",
       "    <tr style=\"text-align: right;\">\n",
       "      <th></th>\n",
       "      <th>Date Watched</th>\n",
       "      <th>Title</th>\n",
       "    </tr>\n",
       "  </thead>\n",
       "  <tbody>\n",
       "    <tr>\n",
       "      <th>0</th>\n",
       "      <td>05/30/2011 22:00:00</td>\n",
       "      <td>I'll Let You Know When I Get There-The Killing...</td>\n",
       "    </tr>\n",
       "    <tr>\n",
       "      <th>1</th>\n",
       "      <td>05/30/2011 22:00:00</td>\n",
       "      <td>I'll Let You Know When I Get There-The Killing...</td>\n",
       "    </tr>\n",
       "    <tr>\n",
       "      <th>2</th>\n",
       "      <td>06/07/2011 1:00:00</td>\n",
       "      <td>Pilot-The Killing Season 1</td>\n",
       "    </tr>\n",
       "    <tr>\n",
       "      <th>3</th>\n",
       "      <td>06/07/2011 1:00:00</td>\n",
       "      <td>Missing-The Killing Season 1</td>\n",
       "    </tr>\n",
       "    <tr>\n",
       "      <th>4</th>\n",
       "      <td>06/17/2011 23:00:00</td>\n",
       "      <td>Beau Soleil-The Killing Season 1</td>\n",
       "    </tr>\n",
       "  </tbody>\n",
       "</table>\n",
       "</div>"
      ],
      "text/plain": [
       "          Date Watched                                              Title\n",
       "0  05/30/2011 22:00:00  I'll Let You Know When I Get There-The Killing...\n",
       "1  05/30/2011 22:00:00  I'll Let You Know When I Get There-The Killing...\n",
       "2   06/07/2011 1:00:00                         Pilot-The Killing Season 1\n",
       "3   06/07/2011 1:00:00                       Missing-The Killing Season 1\n",
       "4  06/17/2011 23:00:00                   Beau Soleil-The Killing Season 1"
      ]
     },
     "execution_count": 6,
     "metadata": {},
     "output_type": "execute_result"
    }
   ],
   "source": [
    "# Fix the column names in the dataframe\n",
    "fixed_columns = {\n",
    "    \"Playback Hour\":\"Date Watched\"\n",
    "}\n",
    "\n",
    "# Check that the column names are displaying correctly\n",
    "prime_video.rename(columns=fixed_columns, inplace=True)\n",
    "prime_video.head()"
   ]
  },
  {
   "cell_type": "code",
   "execution_count": 7,
   "metadata": {},
   "outputs": [
    {
     "data": {
      "text/html": [
       "<div>\n",
       "<style scoped>\n",
       "    .dataframe tbody tr th:only-of-type {\n",
       "        vertical-align: middle;\n",
       "    }\n",
       "\n",
       "    .dataframe tbody tr th {\n",
       "        vertical-align: top;\n",
       "    }\n",
       "\n",
       "    .dataframe thead th {\n",
       "        text-align: right;\n",
       "    }\n",
       "</style>\n",
       "<table border=\"1\" class=\"dataframe\">\n",
       "  <thead>\n",
       "    <tr style=\"text-align: right;\">\n",
       "      <th></th>\n",
       "      <th>Date Watched</th>\n",
       "      <th>Title</th>\n",
       "      <th>Streaming Service</th>\n",
       "    </tr>\n",
       "  </thead>\n",
       "  <tbody>\n",
       "    <tr>\n",
       "      <th>0</th>\n",
       "      <td>05/30/2011 22:00:00</td>\n",
       "      <td>I'll Let You Know When I Get There-The Killing...</td>\n",
       "      <td>Prime Video</td>\n",
       "    </tr>\n",
       "    <tr>\n",
       "      <th>1</th>\n",
       "      <td>05/30/2011 22:00:00</td>\n",
       "      <td>I'll Let You Know When I Get There-The Killing...</td>\n",
       "      <td>Prime Video</td>\n",
       "    </tr>\n",
       "    <tr>\n",
       "      <th>2</th>\n",
       "      <td>06/07/2011 1:00:00</td>\n",
       "      <td>Pilot-The Killing Season 1</td>\n",
       "      <td>Prime Video</td>\n",
       "    </tr>\n",
       "    <tr>\n",
       "      <th>3</th>\n",
       "      <td>06/07/2011 1:00:00</td>\n",
       "      <td>Missing-The Killing Season 1</td>\n",
       "      <td>Prime Video</td>\n",
       "    </tr>\n",
       "    <tr>\n",
       "      <th>4</th>\n",
       "      <td>06/17/2011 23:00:00</td>\n",
       "      <td>Beau Soleil-The Killing Season 1</td>\n",
       "      <td>Prime Video</td>\n",
       "    </tr>\n",
       "  </tbody>\n",
       "</table>\n",
       "</div>"
      ],
      "text/plain": [
       "          Date Watched                                              Title  \\\n",
       "0  05/30/2011 22:00:00  I'll Let You Know When I Get There-The Killing...   \n",
       "1  05/30/2011 22:00:00  I'll Let You Know When I Get There-The Killing...   \n",
       "2   06/07/2011 1:00:00                         Pilot-The Killing Season 1   \n",
       "3   06/07/2011 1:00:00                       Missing-The Killing Season 1   \n",
       "4  06/17/2011 23:00:00                   Beau Soleil-The Killing Season 1   \n",
       "\n",
       "  Streaming Service  \n",
       "0       Prime Video  \n",
       "1       Prime Video  \n",
       "2       Prime Video  \n",
       "3       Prime Video  \n",
       "4       Prime Video  "
      ]
     },
     "execution_count": 7,
     "metadata": {},
     "output_type": "execute_result"
    }
   ],
   "source": [
    "# Add a new column \"Streaming Service\" and fill with \"Prime Video\" so once combined I will know which service this data is from\n",
    "prime_video[\"Streaming Service\"] = \"Prime Video\"\n",
    "\n",
    "# View the first five rows of data to ensure that new column was added correctly\n",
    "prime_video.head()"
   ]
  },
  {
   "cell_type": "code",
   "execution_count": 8,
   "metadata": {},
   "outputs": [
    {
     "name": "stdout",
     "output_type": "stream",
     "text": [
      "<class 'pandas.core.frame.DataFrame'>\n",
      "RangeIndex: 1870 entries, 0 to 1869\n",
      "Data columns (total 3 columns):\n",
      " #   Column             Non-Null Count  Dtype \n",
      "---  ------             --------------  ----- \n",
      " 0   Date Watched       1870 non-null   object\n",
      " 1   Title              1837 non-null   object\n",
      " 2   Streaming Service  1870 non-null   object\n",
      "dtypes: object(3)\n",
      "memory usage: 44.0+ KB\n"
     ]
    }
   ],
   "source": [
    "# Get info about the dataframe\n",
    "prime_video.info()"
   ]
  },
  {
   "cell_type": "code",
   "execution_count": 9,
   "metadata": {},
   "outputs": [
    {
     "name": "stdout",
     "output_type": "stream",
     "text": [
      "Stored 'prime_video_cleaned' (DataFrame)\n"
     ]
    }
   ],
   "source": [
    "# Store the cleaned dataframe as a variable to use in the main notebook\n",
    "prime_video_cleaned = prime_video\n",
    "%store prime_video_cleaned"
   ]
  }
 ],
 "metadata": {
  "kernelspec": {
   "display_name": "Python 3.10.2 64-bit",
   "language": "python",
   "name": "python3"
  },
  "language_info": {
   "codemirror_mode": {
    "name": "ipython",
    "version": 3
   },
   "file_extension": ".py",
   "mimetype": "text/x-python",
   "name": "python",
   "nbconvert_exporter": "python",
   "pygments_lexer": "ipython3",
   "version": "3.10.2"
  },
  "orig_nbformat": 4,
  "vscode": {
   "interpreter": {
    "hash": "369f2c481f4da34e4445cda3fffd2e751bd1c4d706f27375911949ba6bb62e1c"
   }
  }
 },
 "nbformat": 4,
 "nbformat_minor": 2
}
