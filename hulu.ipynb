{
 "cells": [
  {
   "cell_type": "markdown",
   "metadata": {},
   "source": [
    "## Hulu Streaming Data"
   ]
  },
  {
   "cell_type": "markdown",
   "metadata": {},
   "source": [
    "### 1. Read the Data In\n",
    "This is where I import any needed Python libraries and all datasets I'll use in this notebook."
   ]
  },
  {
   "cell_type": "code",
   "execution_count": 1,
   "metadata": {},
   "outputs": [],
   "source": [
    "# Import needed libraries\n",
    "import pandas as pd"
   ]
  },
  {
   "cell_type": "code",
   "execution_count": 2,
   "metadata": {},
   "outputs": [],
   "source": [
    "# Read the CSV file in\n",
    "hulu = pd.read_csv(\"datasets/HuluViewingHistoryUpdated.csv\")"
   ]
  },
  {
   "cell_type": "code",
   "execution_count": 3,
   "metadata": {},
   "outputs": [
    {
     "data": {
      "text/html": [
       "<div>\n",
       "<style scoped>\n",
       "    .dataframe tbody tr th:only-of-type {\n",
       "        vertical-align: middle;\n",
       "    }\n",
       "\n",
       "    .dataframe tbody tr th {\n",
       "        vertical-align: top;\n",
       "    }\n",
       "\n",
       "    .dataframe thead th {\n",
       "        text-align: right;\n",
       "    }\n",
       "</style>\n",
       "<table border=\"1\" class=\"dataframe\">\n",
       "  <thead>\n",
       "    <tr style=\"text-align: right;\">\n",
       "      <th></th>\n",
       "      <th>Episode Name</th>\n",
       "      <th>Series Name</th>\n",
       "      <th>Season</th>\n",
       "      <th>Last Played At</th>\n",
       "    </tr>\n",
       "  </thead>\n",
       "  <tbody>\n",
       "    <tr>\n",
       "      <th>0</th>\n",
       "      <td>I Know Who Did It</td>\n",
       "      <td>Only Murders in the Building</td>\n",
       "      <td>2.0</td>\n",
       "      <td>10/30/2022 22:18</td>\n",
       "    </tr>\n",
       "    <tr>\n",
       "      <th>1</th>\n",
       "      <td>Sparring Partners</td>\n",
       "      <td>Only Murders in the Building</td>\n",
       "      <td>2.0</td>\n",
       "      <td>10/30/2022 21:39</td>\n",
       "    </tr>\n",
       "    <tr>\n",
       "      <th>2</th>\n",
       "      <td>Hello, Darkness</td>\n",
       "      <td>Only Murders in the Building</td>\n",
       "      <td>2.0</td>\n",
       "      <td>10/30/2022 21:03</td>\n",
       "    </tr>\n",
       "    <tr>\n",
       "      <th>3</th>\n",
       "      <td>Flipping the Pieces</td>\n",
       "      <td>Only Murders in the Building</td>\n",
       "      <td>2.0</td>\n",
       "      <td>10/30/2022 5:48</td>\n",
       "    </tr>\n",
       "    <tr>\n",
       "      <th>4</th>\n",
       "      <td>Performance Review</td>\n",
       "      <td>Only Murders in the Building</td>\n",
       "      <td>2.0</td>\n",
       "      <td>10/30/2022 5:12</td>\n",
       "    </tr>\n",
       "  </tbody>\n",
       "</table>\n",
       "</div>"
      ],
      "text/plain": [
       "          Episode Name                   Series Name  Season    Last Played At\n",
       "0    I Know Who Did It  Only Murders in the Building     2.0  10/30/2022 22:18\n",
       "1    Sparring Partners  Only Murders in the Building     2.0  10/30/2022 21:39\n",
       "2      Hello, Darkness  Only Murders in the Building     2.0  10/30/2022 21:03\n",
       "3  Flipping the Pieces  Only Murders in the Building     2.0   10/30/2022 5:48\n",
       "4   Performance Review  Only Murders in the Building     2.0   10/30/2022 5:12"
      ]
     },
     "execution_count": 3,
     "metadata": {},
     "output_type": "execute_result"
    }
   ],
   "source": [
    "# View the first five rows of data\n",
    "hulu.head()"
   ]
  },
  {
   "cell_type": "markdown",
   "metadata": {},
   "source": [
    "### 2. Manipulate and Clean the Data"
   ]
  },
  {
   "cell_type": "code",
   "execution_count": 4,
   "metadata": {},
   "outputs": [
    {
     "data": {
      "text/html": [
       "<div>\n",
       "<style scoped>\n",
       "    .dataframe tbody tr th:only-of-type {\n",
       "        vertical-align: middle;\n",
       "    }\n",
       "\n",
       "    .dataframe tbody tr th {\n",
       "        vertical-align: top;\n",
       "    }\n",
       "\n",
       "    .dataframe thead th {\n",
       "        text-align: right;\n",
       "    }\n",
       "</style>\n",
       "<table border=\"1\" class=\"dataframe\">\n",
       "  <thead>\n",
       "    <tr style=\"text-align: right;\">\n",
       "      <th></th>\n",
       "      <th>Episode Name</th>\n",
       "      <th>Series Name</th>\n",
       "      <th>Season</th>\n",
       "      <th>Last Played At</th>\n",
       "      <th>Streaming Service</th>\n",
       "    </tr>\n",
       "  </thead>\n",
       "  <tbody>\n",
       "    <tr>\n",
       "      <th>0</th>\n",
       "      <td>I Know Who Did It</td>\n",
       "      <td>Only Murders in the Building</td>\n",
       "      <td>2.0</td>\n",
       "      <td>10/30/2022 22:18</td>\n",
       "      <td>Hulu</td>\n",
       "    </tr>\n",
       "    <tr>\n",
       "      <th>1</th>\n",
       "      <td>Sparring Partners</td>\n",
       "      <td>Only Murders in the Building</td>\n",
       "      <td>2.0</td>\n",
       "      <td>10/30/2022 21:39</td>\n",
       "      <td>Hulu</td>\n",
       "    </tr>\n",
       "    <tr>\n",
       "      <th>2</th>\n",
       "      <td>Hello, Darkness</td>\n",
       "      <td>Only Murders in the Building</td>\n",
       "      <td>2.0</td>\n",
       "      <td>10/30/2022 21:03</td>\n",
       "      <td>Hulu</td>\n",
       "    </tr>\n",
       "    <tr>\n",
       "      <th>3</th>\n",
       "      <td>Flipping the Pieces</td>\n",
       "      <td>Only Murders in the Building</td>\n",
       "      <td>2.0</td>\n",
       "      <td>10/30/2022 5:48</td>\n",
       "      <td>Hulu</td>\n",
       "    </tr>\n",
       "    <tr>\n",
       "      <th>4</th>\n",
       "      <td>Performance Review</td>\n",
       "      <td>Only Murders in the Building</td>\n",
       "      <td>2.0</td>\n",
       "      <td>10/30/2022 5:12</td>\n",
       "      <td>Hulu</td>\n",
       "    </tr>\n",
       "  </tbody>\n",
       "</table>\n",
       "</div>"
      ],
      "text/plain": [
       "          Episode Name                   Series Name  Season  \\\n",
       "0    I Know Who Did It  Only Murders in the Building     2.0   \n",
       "1    Sparring Partners  Only Murders in the Building     2.0   \n",
       "2      Hello, Darkness  Only Murders in the Building     2.0   \n",
       "3  Flipping the Pieces  Only Murders in the Building     2.0   \n",
       "4   Performance Review  Only Murders in the Building     2.0   \n",
       "\n",
       "     Last Played At Streaming Service  \n",
       "0  10/30/2022 22:18              Hulu  \n",
       "1  10/30/2022 21:39              Hulu  \n",
       "2  10/30/2022 21:03              Hulu  \n",
       "3   10/30/2022 5:48              Hulu  \n",
       "4   10/30/2022 5:12              Hulu  "
      ]
     },
     "execution_count": 4,
     "metadata": {},
     "output_type": "execute_result"
    }
   ],
   "source": [
    "# Add a new column \"Streaming Service\" and fill with \"Hulu\" so once combined I will know which service this data is from\n",
    "hulu[\"Streaming Service\"] = \"Hulu\"\n",
    "\n",
    "# View the first five rows of data to ensure that new column was added correctly\n",
    "hulu.head()"
   ]
  },
  {
   "cell_type": "code",
   "execution_count": 5,
   "metadata": {},
   "outputs": [
    {
     "data": {
      "text/html": [
       "<div>\n",
       "<style scoped>\n",
       "    .dataframe tbody tr th:only-of-type {\n",
       "        vertical-align: middle;\n",
       "    }\n",
       "\n",
       "    .dataframe tbody tr th {\n",
       "        vertical-align: top;\n",
       "    }\n",
       "\n",
       "    .dataframe thead th {\n",
       "        text-align: right;\n",
       "    }\n",
       "</style>\n",
       "<table border=\"1\" class=\"dataframe\">\n",
       "  <thead>\n",
       "    <tr style=\"text-align: right;\">\n",
       "      <th></th>\n",
       "      <th>Series Name</th>\n",
       "      <th>Last Played At</th>\n",
       "      <th>Streaming Service</th>\n",
       "    </tr>\n",
       "  </thead>\n",
       "  <tbody>\n",
       "    <tr>\n",
       "      <th>0</th>\n",
       "      <td>Only Murders in the Building</td>\n",
       "      <td>10/30/2022 22:18</td>\n",
       "      <td>Hulu</td>\n",
       "    </tr>\n",
       "    <tr>\n",
       "      <th>1</th>\n",
       "      <td>Only Murders in the Building</td>\n",
       "      <td>10/30/2022 21:39</td>\n",
       "      <td>Hulu</td>\n",
       "    </tr>\n",
       "    <tr>\n",
       "      <th>2</th>\n",
       "      <td>Only Murders in the Building</td>\n",
       "      <td>10/30/2022 21:03</td>\n",
       "      <td>Hulu</td>\n",
       "    </tr>\n",
       "    <tr>\n",
       "      <th>3</th>\n",
       "      <td>Only Murders in the Building</td>\n",
       "      <td>10/30/2022 5:48</td>\n",
       "      <td>Hulu</td>\n",
       "    </tr>\n",
       "    <tr>\n",
       "      <th>4</th>\n",
       "      <td>Only Murders in the Building</td>\n",
       "      <td>10/30/2022 5:12</td>\n",
       "      <td>Hulu</td>\n",
       "    </tr>\n",
       "  </tbody>\n",
       "</table>\n",
       "</div>"
      ],
      "text/plain": [
       "                    Series Name    Last Played At Streaming Service\n",
       "0  Only Murders in the Building  10/30/2022 22:18              Hulu\n",
       "1  Only Murders in the Building  10/30/2022 21:39              Hulu\n",
       "2  Only Murders in the Building  10/30/2022 21:03              Hulu\n",
       "3  Only Murders in the Building   10/30/2022 5:48              Hulu\n",
       "4  Only Murders in the Building   10/30/2022 5:12              Hulu"
      ]
     },
     "execution_count": 5,
     "metadata": {},
     "output_type": "execute_result"
    }
   ],
   "source": [
    "# Drop the columns that aren't needed\n",
    "hulu = hulu.drop(columns=[\"Episode Name\", \"Season\"], axis=1)\n",
    "\n",
    "# View updated dataframe to make sure that columns were dropped\n",
    "hulu.head()"
   ]
  },
  {
   "cell_type": "code",
   "execution_count": 6,
   "metadata": {},
   "outputs": [
    {
     "data": {
      "text/html": [
       "<div>\n",
       "<style scoped>\n",
       "    .dataframe tbody tr th:only-of-type {\n",
       "        vertical-align: middle;\n",
       "    }\n",
       "\n",
       "    .dataframe tbody tr th {\n",
       "        vertical-align: top;\n",
       "    }\n",
       "\n",
       "    .dataframe thead th {\n",
       "        text-align: right;\n",
       "    }\n",
       "</style>\n",
       "<table border=\"1\" class=\"dataframe\">\n",
       "  <thead>\n",
       "    <tr style=\"text-align: right;\">\n",
       "      <th></th>\n",
       "      <th>Title</th>\n",
       "      <th>Date Watched</th>\n",
       "      <th>Streaming Service</th>\n",
       "    </tr>\n",
       "  </thead>\n",
       "  <tbody>\n",
       "    <tr>\n",
       "      <th>0</th>\n",
       "      <td>Only Murders in the Building</td>\n",
       "      <td>10/30/2022 22:18</td>\n",
       "      <td>Hulu</td>\n",
       "    </tr>\n",
       "    <tr>\n",
       "      <th>1</th>\n",
       "      <td>Only Murders in the Building</td>\n",
       "      <td>10/30/2022 21:39</td>\n",
       "      <td>Hulu</td>\n",
       "    </tr>\n",
       "    <tr>\n",
       "      <th>2</th>\n",
       "      <td>Only Murders in the Building</td>\n",
       "      <td>10/30/2022 21:03</td>\n",
       "      <td>Hulu</td>\n",
       "    </tr>\n",
       "    <tr>\n",
       "      <th>3</th>\n",
       "      <td>Only Murders in the Building</td>\n",
       "      <td>10/30/2022 5:48</td>\n",
       "      <td>Hulu</td>\n",
       "    </tr>\n",
       "    <tr>\n",
       "      <th>4</th>\n",
       "      <td>Only Murders in the Building</td>\n",
       "      <td>10/30/2022 5:12</td>\n",
       "      <td>Hulu</td>\n",
       "    </tr>\n",
       "  </tbody>\n",
       "</table>\n",
       "</div>"
      ],
      "text/plain": [
       "                          Title      Date Watched Streaming Service\n",
       "0  Only Murders in the Building  10/30/2022 22:18              Hulu\n",
       "1  Only Murders in the Building  10/30/2022 21:39              Hulu\n",
       "2  Only Murders in the Building  10/30/2022 21:03              Hulu\n",
       "3  Only Murders in the Building   10/30/2022 5:48              Hulu\n",
       "4  Only Murders in the Building   10/30/2022 5:12              Hulu"
      ]
     },
     "execution_count": 6,
     "metadata": {},
     "output_type": "execute_result"
    }
   ],
   "source": [
    "# Fix the column names in the dataframe\n",
    "fixed_columns = {\n",
    "    \"Series Name\":\"Title\",\n",
    "    \"Last Played At\":\"Date Watched\"\n",
    "}\n",
    "\n",
    "# Check that the column names are displaying correctly\n",
    "hulu.rename(columns=fixed_columns, inplace=True)\n",
    "hulu.head()"
   ]
  },
  {
   "cell_type": "code",
   "execution_count": 7,
   "metadata": {},
   "outputs": [
    {
     "name": "stdout",
     "output_type": "stream",
     "text": [
      "<class 'pandas.core.frame.DataFrame'>\n",
      "RangeIndex: 427 entries, 0 to 426\n",
      "Data columns (total 3 columns):\n",
      " #   Column             Non-Null Count  Dtype \n",
      "---  ------             --------------  ----- \n",
      " 0   Title              426 non-null    object\n",
      " 1   Date Watched       367 non-null    object\n",
      " 2   Streaming Service  427 non-null    object\n",
      "dtypes: object(3)\n",
      "memory usage: 10.1+ KB\n"
     ]
    }
   ],
   "source": [
    "# Get info about the dataframe \n",
    "hulu.info()"
   ]
  },
  {
   "cell_type": "code",
   "execution_count": 8,
   "metadata": {},
   "outputs": [
    {
     "name": "stdout",
     "output_type": "stream",
     "text": [
      "Stored 'hulu_cleaned' (DataFrame)\n"
     ]
    }
   ],
   "source": [
    "# Store the cleaned dataframe as a variable to use in the main notebook\n",
    "hulu_cleaned = hulu\n",
    "%store hulu_cleaned"
   ]
  }
 ],
 "metadata": {
  "kernelspec": {
   "display_name": "Python 3.10.2 64-bit",
   "language": "python",
   "name": "python3"
  },
  "language_info": {
   "codemirror_mode": {
    "name": "ipython",
    "version": 3
   },
   "file_extension": ".py",
   "mimetype": "text/x-python",
   "name": "python",
   "nbconvert_exporter": "python",
   "pygments_lexer": "ipython3",
   "version": "3.10.2"
  },
  "orig_nbformat": 4,
  "vscode": {
   "interpreter": {
    "hash": "369f2c481f4da34e4445cda3fffd2e751bd1c4d706f27375911949ba6bb62e1c"
   }
  }
 },
 "nbformat": 4,
 "nbformat_minor": 2
}
